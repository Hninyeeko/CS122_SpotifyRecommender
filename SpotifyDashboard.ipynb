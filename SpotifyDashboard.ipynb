{
  "nbformat": 4,
  "nbformat_minor": 0,
  "metadata": {
    "colab": {
      "provenance": []
    },
    "kernelspec": {
      "name": "python3",
      "display_name": "Python 3"
    },
    "language_info": {
      "name": "python"
    }
  },
  "cells": [
    {
      "cell_type": "markdown",
      "source": [
        "**Install Spotipy library, which will let us make API calls to access Spotify user data.**"
      ],
      "metadata": {
        "id": "W0eZsFV0tRSm"
      }
    },
    {
      "cell_type": "code",
      "execution_count": null,
      "metadata": {
        "colab": {
          "base_uri": "https://localhost:8080/"
        },
        "collapsed": true,
        "id": "D3mPsGxibyxT",
        "outputId": "1acaf97e-9411-4536-d757-9570e1e07ee3"
      },
      "outputs": [
        {
          "output_type": "stream",
          "name": "stdout",
          "text": [
            "Requirement already satisfied: spotipy in /usr/local/lib/python3.11/dist-packages (2.25.1)\n",
            "Requirement already satisfied: redis>=3.5.3 in /usr/local/lib/python3.11/dist-packages (from spotipy) (6.0.0)\n",
            "Requirement already satisfied: requests>=2.25.0 in /usr/local/lib/python3.11/dist-packages (from spotipy) (2.32.3)\n",
            "Requirement already satisfied: urllib3>=1.26.0 in /usr/local/lib/python3.11/dist-packages (from spotipy) (2.4.0)\n",
            "Requirement already satisfied: charset-normalizer<4,>=2 in /usr/local/lib/python3.11/dist-packages (from requests>=2.25.0->spotipy) (3.4.1)\n",
            "Requirement already satisfied: idna<4,>=2.5 in /usr/local/lib/python3.11/dist-packages (from requests>=2.25.0->spotipy) (3.10)\n",
            "Requirement already satisfied: certifi>=2017.4.17 in /usr/local/lib/python3.11/dist-packages (from requests>=2.25.0->spotipy) (2025.4.26)\n"
          ]
        }
      ],
      "source": [
        "# Install spotipy library\n",
        "!pip install spotipy"
      ]
    },
    {
      "cell_type": "markdown",
      "source": [
        "**Libraries necessary to build the dashboard.**"
      ],
      "metadata": {
        "id": "CE3GW4CRfIz0"
      }
    },
    {
      "cell_type": "code",
      "source": [
        "import spotipy\n",
        "from spotipy.oauth2 import SpotifyOAuth # for authentication\n",
        "import pandas as pd\n",
        "import matplotlib.pyplot as plt\n",
        "import seaborn as sns\n",
        "from collections import Counter # to keep track of genre count\n",
        "from IPython.display import display, Image, HTML # to make dashboard interactive w/ images and HTML\n",
        "import requests # to make GET requests"
      ],
      "metadata": {
        "id": "4u4pmSL2M3Bz"
      },
      "execution_count": null,
      "outputs": []
    },
    {
      "cell_type": "markdown",
      "source": [
        "**Set up and authenticate the Spotify app**"
      ],
      "metadata": {
        "id": "wTHOzN4WthuK"
      }
    },
    {
      "cell_type": "code",
      "source": [
        "# Credentials from Spotify Developer Dashboard to idenitfy my app when making API requests.\n",
        "CLIENT_ID = 'f455399ce6b14ecd9feba8b404ce9579'\n",
        "CLIENT_SECRET = '2cb4fe209b3747ffbf823906ed0b5cfe'\n",
        "REDIRECT_URI = 'https://example.com/callback' # user gets redirected here after authorizing the app\n",
        "\n",
        "# the permissions that the app will request from the user\n",
        "# top tracks, library, recently played songs\n",
        "SCOPE = 'user-top-read user-library-read user-read-recently-played playlist-read-collaborative playlist-read-private'\n",
        "\n",
        "# Create object to handle authentication flow\n",
        "sp_oauth = SpotifyOAuth(client_id=CLIENT_ID,\n",
        "                        client_secret=CLIENT_SECRET,\n",
        "                        redirect_uri=REDIRECT_URI,\n",
        "                        scope=SCOPE)\n",
        "\n",
        "# Generate authorization URL\n",
        "# User has to click on this link to open new browser and authorize access\n",
        "auth_url = sp_oauth.get_authorize_url()\n",
        "print(\"Click this link to authorize access:\")\n",
        "print(auth_url)\n"
      ],
      "metadata": {
        "colab": {
          "base_uri": "https://localhost:8080/"
        },
        "id": "NbyO9xPLb7DJ",
        "outputId": "9ff48896-0bda-4615-ea1a-111a8e5f1a9d",
        "collapsed": true
      },
      "execution_count": 38,
      "outputs": [
        {
          "output_type": "stream",
          "name": "stdout",
          "text": [
            "Click this link to authorize access:\n",
            "https://accounts.spotify.com/authorize?client_id=f455399ce6b14ecd9feba8b404ce9579&response_type=code&redirect_uri=https%3A%2F%2Fexample.com%2Fcallback&scope=user-top-read+user-library-read+user-read-recently-played+playlist-read-collaborative+playlist-read-private\n"
          ]
        }
      ]
    },
    {
      "cell_type": "code",
      "source": [
        "# paste redirected URL from the browser here\n",
        "redirected_url = input(\"Paste the full redirect URL here: \")\n",
        "\n",
        "# Parse the code and get access token\n",
        "code = sp_oauth.parse_response_code(redirected_url)\n",
        "token_info = sp_oauth.get_access_token(code)\n",
        "\n",
        "# Check if token_info is returned as dictionary or string\n",
        "if isinstance(token_info, dict):\n",
        "    access_token = token_info['access_token'] # dictionary\n",
        "else:\n",
        "    access_token = token_info  # string\n",
        "\n",
        "# Use the token\n",
        "# Create sp object to make API calls\n",
        "sp = spotipy.Spotify(auth=access_token)\n",
        "\n",
        "# Confirm login\n",
        "# API call to get user's profile info\n",
        "me = sp.current_user()\n",
        "print(\"Logged in as:\", me['display_name'])"
      ],
      "metadata": {
        "colab": {
          "base_uri": "https://localhost:8080/"
        },
        "id": "OagWb7YlloRp",
        "outputId": "7e74212e-ac65-46ee-e143-ce28aa8796ed",
        "collapsed": true
      },
      "execution_count": 46,
      "outputs": [
        {
          "output_type": "stream",
          "name": "stdout",
          "text": [
            "Paste the full redirect URL here: https://developer.spotify.com/documentation/web-api\n",
            "Logged in as: apple\n"
          ]
        },
        {
          "output_type": "stream",
          "name": "stderr",
          "text": [
            "<ipython-input-46-69ca7e50726e>:6: DeprecationWarning: You're using 'as_dict = True'.get_access_token will return the token string directly in future versions. Please adjust your code accordingly, or use get_cached_token instead.\n",
            "  token_info = sp_oauth.get_access_token(code)\n"
          ]
        }
      ]
    },
    {
      "cell_type": "markdown",
      "source": [
        "**Define functions to make API calls to get user's profile, top tracks, top artists, top genres and generate recommended artists.**\n",
        "\n",
        "Spotify API calls used:\n",
        "\n",
        "sp.current_user() : to get current user's info\n",
        "\n",
        "sp.current_user_top_artists() : to get top artists\n",
        "\n",
        "sp.current_user_top_tracks() : to get top tracks\n",
        "\n",
        "sp.search() : to search for artists in the same genre\n",
        "\n"
      ],
      "metadata": {
        "id": "rPKGyb4bliHC"
      }
    },
    {
      "cell_type": "code",
      "source": [
        "# Get user's Spotify name and profile pic\n",
        "def get_user_profile(sp):\n",
        "    user_profile = sp.current_user()\n",
        "    user_name = user_profile['display_name']\n",
        "    profile_pic = user_profile['images'][0]['url'] if user_profile['images'] else None\n",
        "    return user_name, profile_pic\n",
        "\n",
        "# Get user's top 10 artists (limit=10)\n",
        "# Can customize w/ time_range parameter\n",
        "# short_term = last 4 weeks\n",
        "# medium_term = last 6 months\n",
        "# long_term  = all time history\n",
        "def get_top_artists(sp, limit=5, time_range='short_term'):\n",
        "    top_artists = sp.current_user_top_artists(limit=limit, time_range=time_range)\n",
        "    artists = []\n",
        "    genre_list = []\n",
        "    for artist in top_artists['items']:\n",
        "        name = artist['name']\n",
        "        genres = artist['genres']\n",
        "        popularity = artist['popularity']\n",
        "        image = artist['images'][0]['url'] if artist['images'] else None\n",
        "        artists.append({\"name\": name, \"genres\": genres, \"popularity\": popularity, \"image\": image})\n",
        "        genre_list.extend(genres)\n",
        "    return artists, genre_list\n",
        "\n",
        "# Get top 5 genres generated from top artists\n",
        "# Can be customized by changing top_n parameter\n",
        "def get_top_genres(genre_list, top_n=5):\n",
        "    genre_counts = Counter(genre_list) # use counter to count frequency of each genre\n",
        "    return genre_counts.most_common(top_n)\n",
        "\n",
        "# Get top 10 tracks\n",
        "# Can customize w/ time_range parameter\n",
        "def get_top_tracks(sp, limit=5, time_range='short_term'):\n",
        "    top_tracks = sp.current_user_top_tracks(limit=limit, time_range=time_range)\n",
        "    tracks = []\n",
        "    for track in top_tracks['items']:\n",
        "        name = track['name']\n",
        "        artist = track['artists'][0]['name']\n",
        "        album = track['album']['name']\n",
        "        album_id = track['album']['id']\n",
        "        album_url = track['album']['external_urls']['spotify']\n",
        "        image = track['album']['images'][0]['url'] if track['album']['images'] else None\n",
        "        tracks.append({\"track\": name, \"artist\": artist, \"album\": album, \"album_id\": album_id, \"album_url\": album_url, \"image\": image})\n",
        "    return tracks\n",
        "\n",
        "# Recommend 10 artists based on user's top genres\n",
        "# Iterate through top genres and use sp.search() to find artists in those genres\n",
        "# Can change sorting order (reverse=False) to find niche less popular artists\n",
        "def get_recommendations_by_genre(sp, top_genres, exclude_names):\n",
        "    recommended = []\n",
        "    for genre, _ in top_genres:\n",
        "        results = sp.search(q=f'genre:\"{genre}\"', type='artist', limit=10)\n",
        "        for artist in results['artists']['items']:\n",
        "            name = artist['name']\n",
        "            popularity = artist['popularity']\n",
        "            artist_id = artist['id']\n",
        "            image = artist['images'][0]['url'] if artist['images'] else None\n",
        "            # make sure recommendation excludes duplicates and existing top artists\n",
        "            if name not in exclude_names and name not in [a['name'] for a in recommended]:\n",
        "                recommended.append({\"name\": name, \"popularity\": popularity, \"id\": artist_id, \"image\": image})\n",
        "    return sorted(recommended, key=lambda x: x['popularity'], reverse=True) #True = most popular first, False = least popular first\n"
      ],
      "metadata": {
        "id": "jj9feIscM3uc"
      },
      "execution_count": 43,
      "outputs": []
    },
    {
      "cell_type": "markdown",
      "source": [
        "**Defining function to build the layout of the user's music dashboard.**"
      ],
      "metadata": {
        "id": "lO30iV4np1ZT"
      }
    },
    {
      "cell_type": "code",
      "source": [
        "# Building the personal music dashboard template using HTML\n",
        "def display_dashboard(sp):\n",
        "    user_name, profile_pic = get_user_profile(sp)\n",
        "    top_artists, genre_list = get_top_artists(sp)\n",
        "    top_genres = get_top_genres(genre_list)\n",
        "    top_tracks = get_top_tracks(sp)\n",
        "    recommended_artists = get_recommendations_by_genre(sp, top_genres, [a['name'] for a in top_artists])\n",
        "\n",
        "    # Display user name and profile pic\n",
        "    display(HTML(f\"<h1>🎧 Welcome, {user_name}!</h1>\"))\n",
        "    if profile_pic:\n",
        "        display(HTML(f\"<img src='{profile_pic}' style='width:120px;border-radius:60px;'>\"))\n",
        "\n",
        "    # Top Genres Chart\n",
        "    genre_df = pd.DataFrame(top_genres, columns=['Genre', 'Count'])\n",
        "    plt.figure(figsize=(8, 4))\n",
        "    sns.barplot(x='Genre', y='Count', data=genre_df, palette='pastel', hue='Genre')\n",
        "    plt.title(\"Your Top Genres\")\n",
        "    plt.xlabel(\"Genre\")\n",
        "    plt.ylabel(\"\")\n",
        "    plt.xticks(rotation=30)\n",
        "    plt.tight_layout()\n",
        "    plt.show()\n",
        "\n",
        "    # Show top artists\n",
        "    display(HTML(\"<h2>🎤 Your Top Artists</h2>\"))\n",
        "    artist_html = \"<div style='display:flex;flex-wrap:wrap;gap:20px;'>\"\n",
        "    for artist in top_artists:\n",
        "        if artist['image']:\n",
        "            artist_html += f\"\"\"\n",
        "            <div style='text-align:center;width:120px;'>\n",
        "                <img src=\"{artist['image']}\" style=\"width:100px;height:100px;border-radius:50%;object-fit:cover;\"><br>\n",
        "                <div style=\"font-size:12px;margin-top:6px;color:#999;\">{artist['name']}</div>\n",
        "            </div>\n",
        "            \"\"\"\n",
        "    artist_html += \"</div>\"\n",
        "    display(HTML(artist_html))\n",
        "\n",
        "    # Show top tracks with clickable album names\n",
        "    display(HTML(\"<h2>🎧 Your Top Tracks</h2>\"))\n",
        "\n",
        "    track_html = \"<div style='display:flex;flex-wrap:wrap;gap:20px;'>\"\n",
        "    for track in top_tracks:\n",
        "       if track['image']:\n",
        "           track_html += f\"\"\"\n",
        "           <div style='text-align:center;width:120px;'>\n",
        "               <img src=\"{track['image']}\" style=\"width:100px;height:100px;border-radius:10px;object-fit:cover;\"><br>\n",
        "               <div style=\"font-size:12px;margin-top:6px;color:#999;\">\n",
        "                    {track['track']}<br>\n",
        "                   <a href=\"{track['album_url']}\" target=\"_blank\" style=\"font-size:11px;color:#1DB954;text-decoration:none;\">\n",
        "                        <em>{track['album']}</em>\n",
        "                   </a>\n",
        "               </div>\n",
        "           </div>\n",
        "           \"\"\"\n",
        "    track_html += \"</div>\"\n",
        "    display(HTML(track_html))\n",
        "\n",
        "    # Show recommended artists\n",
        "    display(HTML(\"<h2>🔮 Custom Artist Recommendations</h2>\"))\n",
        "    rec_html = \"<div style='display:flex;flex-wrap:wrap;gap:20px;'>\"\n",
        "    for artist in recommended_artists[:10]:\n",
        "        if artist['image']:\n",
        "            rec_html += f\"\"\"\n",
        "            <div style='text-align:center;width:120px;'>\n",
        "                <img src=\"{artist['image']}\" style=\"width:100px;height:100px;border-radius:50%;object-fit:cover;\"><br>\n",
        "                <div style=\"font-size:12px;margin-top:6px;color:#999;\">{artist['name']}</div>\n",
        "            </div>\n",
        "            \"\"\"\n",
        "    rec_html += \"</div>\"\n",
        "    display(HTML(rec_html))"
      ],
      "metadata": {
        "id": "4lCgNylVT8C8"
      },
      "execution_count": 44,
      "outputs": []
    },
    {
      "cell_type": "code",
      "source": [
        "# Run this to display the dashboard\n",
        "display_dashboard(sp)"
      ],
      "metadata": {
        "colab": {
          "base_uri": "https://localhost:8080/",
          "height": 1000
        },
        "collapsed": true,
        "id": "DlaGrwAWUB2z",
        "outputId": "dfd4d1cb-ce9d-4a51-b146-25e589ff53ce"
      },
      "execution_count": 45,
      "outputs": [
        {
          "output_type": "display_data",
          "data": {
            "text/plain": [
              "<IPython.core.display.HTML object>"
            ],
            "text/html": [
              "<h1>🎧 Welcome, apple!</h1>"
            ]
          },
          "metadata": {}
        },
        {
          "output_type": "display_data",
          "data": {
            "text/plain": [
              "<IPython.core.display.HTML object>"
            ],
            "text/html": [
              "<img src='https://i.scdn.co/image/ab6775700000ee858eb063bb7ab5b20b0f5682bb' style='width:120px;border-radius:60px;'>"
            ]
          },
          "metadata": {}
        },
        {
          "output_type": "display_data",
          "data": {
            "text/plain": [
              "<Figure size 800x400 with 1 Axes>"
            ],
            "image/png": "[encoded data removed]"
          },
          "metadata": {}
        },
        {
          "output_type": "display_data",
          "data": {
            "text/plain": [
              "<IPython.core.display.HTML object>"
            ],
            "text/html": [
              "<h2>🎤 Your Top Artists</h2>"
            ]
          },
          "metadata": {}
        },
        {
          "output_type": "display_data",
          "data": {
            "text/plain": [
              "<IPython.core.display.HTML object>"
            ],
            "text/html": [
              "<div style='display:flex;flex-wrap:wrap;gap:20px;'>\n",
              "            <div style='text-align:center;width:120px;'>\n",
              "                <img src=\"https://i.scdn.co/image/ab6761610000e5eb4293385d324db8558179afd9\" style=\"width:100px;height:100px;border-radius:50%;object-fit:cover;\"><br>\n",
              "                <div style=\"font-size:12px;margin-top:6px;color:#999;\">Drake</div>\n",
              "            </div>\n",
              "            \n",
              "            <div style='text-align:center;width:120px;'>\n",
              "                <img src=\"https://i.scdn.co/image/cf79bd3e5c787e2ec152eeb1ea5538b0d4cf1434\" style=\"width:100px;height:100px;border-radius:50%;object-fit:cover;\"><br>\n",
              "                <div style=\"font-size:12px;margin-top:6px;color:#999;\">Marvin Gaye</div>\n",
              "            </div>\n",
              "            \n",
              "            <div style='text-align:center;width:120px;'>\n",
              "                <img src=\"https://i.scdn.co/image/ab6761610000e5ebb34057d59275011032ef8bc8\" style=\"width:100px;height:100px;border-radius:50%;object-fit:cover;\"><br>\n",
              "                <div style=\"font-size:12px;margin-top:6px;color:#999;\">Billy Joel</div>\n",
              "            </div>\n",
              "            \n",
              "            <div style='text-align:center;width:120px;'>\n",
              "                <img src=\"https://i.scdn.co/image/ab6761610000e5eb0522e98a6f0cf1ddbee9a74f\" style=\"width:100px;height:100px;border-radius:50%;object-fit:cover;\"><br>\n",
              "                <div style=\"font-size:12px;margin-top:6px;color:#999;\">Oasis</div>\n",
              "            </div>\n",
              "            \n",
              "            <div style='text-align:center;width:120px;'>\n",
              "                <img src=\"https://i.scdn.co/image/ab6761610000e5ebe053b8338322b9c8609ee7ae\" style=\"width:100px;height:100px;border-radius:50%;object-fit:cover;\"><br>\n",
              "                <div style=\"font-size:12px;margin-top:6px;color:#999;\">Sabrina Carpenter</div>\n",
              "            </div>\n",
              "            </div>"
            ]
          },
          "metadata": {}
        },
        {
          "output_type": "display_data",
          "data": {
            "text/plain": [
              "<IPython.core.display.HTML object>"
            ],
            "text/html": [
              "<h2>🎧 Your Top Tracks</h2>"
            ]
          },
          "metadata": {}
        },
        {
          "output_type": "display_data",
          "data": {
            "text/plain": [
              "<IPython.core.display.HTML object>"
            ],
            "text/html": [
              "<div style='display:flex;flex-wrap:wrap;gap:20px;'>\n",
              "           <div style='text-align:center;width:120px;'>\n",
              "               <img src=\"https://i.scdn.co/image/ab67616d0000b27384c1a4b0b7a29f95cf454062\" style=\"width:100px;height:100px;border-radius:10px;object-fit:cover;\"><br>\n",
              "               <div style=\"font-size:12px;margin-top:6px;color:#999;\">\n",
              "                    A Storm on a Summers Day<br>\n",
              "                   <a href=\"https://open.spotify.com/album/1iSG24ckIXnhCjIWcVJZYY\" target=\"_blank\" style=\"font-size:11px;color:#1DB954;text-decoration:none;\">\n",
              "                        <em>A Storm on a Summers Day</em>\n",
              "                   </a>\n",
              "               </div>\n",
              "           </div>\n",
              "           \n",
              "           <div style='text-align:center;width:120px;'>\n",
              "               <img src=\"https://i.scdn.co/image/ab67616d0000b2734f0fd9dad63977146e685700\" style=\"width:100px;height:100px;border-radius:10px;object-fit:cover;\"><br>\n",
              "               <div style=\"font-size:12px;margin-top:6px;color:#999;\">\n",
              "                    Get It Together<br>\n",
              "                   <a href=\"https://open.spotify.com/album/1lXY618HWkwYKJWBRYR4MK\" target=\"_blank\" style=\"font-size:11px;color:#1DB954;text-decoration:none;\">\n",
              "                        <em>More Life</em>\n",
              "                   </a>\n",
              "               </div>\n",
              "           </div>\n",
              "           \n",
              "           <div style='text-align:center;width:120px;'>\n",
              "               <img src=\"https://i.scdn.co/image/ab67616d0000b2730fb378be47dc1d645eee1c3b\" style=\"width:100px;height:100px;border-radius:10px;object-fit:cover;\"><br>\n",
              "               <div style=\"font-size:12px;margin-top:6px;color:#999;\">\n",
              "                    Superman<br>\n",
              "                   <a href=\"https://open.spotify.com/album/4z9UkNYW3T0EZzcGNjBsSz\" target=\"_blank\" style=\"font-size:11px;color:#1DB954;text-decoration:none;\">\n",
              "                        <em>Home Brewed</em>\n",
              "                   </a>\n",
              "               </div>\n",
              "           </div>\n",
              "           \n",
              "           <div style='text-align:center;width:120px;'>\n",
              "               <img src=\"https://i.scdn.co/image/ab67616d0000b273cc392813bfd8f63d4d5f4a95\" style=\"width:100px;height:100px;border-radius:10px;object-fit:cover;\"><br>\n",
              "               <div style=\"font-size:12px;margin-top:6px;color:#999;\">\n",
              "                    NOKIA<br>\n",
              "                   <a href=\"https://open.spotify.com/album/6Rl6YoCarF2GHPSQmmFjuR\" target=\"_blank\" style=\"font-size:11px;color:#1DB954;text-decoration:none;\">\n",
              "                        <em>$ome $exy $ongs 4 U</em>\n",
              "                   </a>\n",
              "               </div>\n",
              "           </div>\n",
              "           \n",
              "           <div style='text-align:center;width:120px;'>\n",
              "               <img src=\"https://i.scdn.co/image/ab67616d0000b273cc392813bfd8f63d4d5f4a95\" style=\"width:100px;height:100px;border-radius:10px;object-fit:cover;\"><br>\n",
              "               <div style=\"font-size:12px;margin-top:6px;color:#999;\">\n",
              "                    DIE TRYING<br>\n",
              "                   <a href=\"https://open.spotify.com/album/6Rl6YoCarF2GHPSQmmFjuR\" target=\"_blank\" style=\"font-size:11px;color:#1DB954;text-decoration:none;\">\n",
              "                        <em>$ome $exy $ongs 4 U</em>\n",
              "                   </a>\n",
              "               </div>\n",
              "           </div>\n",
              "           </div>"
            ]
          },
          "metadata": {}
        },
        {
          "output_type": "display_data",
          "data": {
            "text/plain": [
              "<IPython.core.display.HTML object>"
            ],
            "text/html": [
              "<h2>🔮 Custom Artist Recommendations</h2>"
            ]
          },
          "metadata": {}
        },
        {
          "output_type": "display_data",
          "data": {
            "text/plain": [
              "<IPython.core.display.HTML object>"
            ],
            "text/html": [
              "<div style='display:flex;flex-wrap:wrap;gap:20px;'>\n",
              "            <div style='text-align:center;width:120px;'>\n",
              "                <img src=\"https://i.scdn.co/image/ab6761610000e5eb39ba6dcd4355c03de0b50918\" style=\"width:100px;height:100px;border-radius:50%;object-fit:cover;\"><br>\n",
              "                <div style=\"font-size:12px;margin-top:6px;color:#999;\">Kendrick Lamar</div>\n",
              "            </div>\n",
              "            \n",
              "            <div style='text-align:center;width:120px;'>\n",
              "                <img src=\"https://i.scdn.co/image/ab6761610000e5ebfd0a9fb6c252a3ba44079acf\" style=\"width:100px;height:100px;border-radius:50%;object-fit:cover;\"><br>\n",
              "                <div style=\"font-size:12px;margin-top:6px;color:#999;\">SZA</div>\n",
              "            </div>\n",
              "            \n",
              "            <div style='text-align:center;width:120px;'>\n",
              "                <img src=\"https://i.scdn.co/image/ab6761610000e5eb19c2790744c792d05570bb71\" style=\"width:100px;height:100px;border-radius:50%;object-fit:cover;\"><br>\n",
              "                <div style=\"font-size:12px;margin-top:6px;color:#999;\">Travis Scott</div>\n",
              "            </div>\n",
              "            \n",
              "            <div style='text-align:center;width:120px;'>\n",
              "                <img src=\"https://i.scdn.co/image/ab6761610000e5eb6e835a500e791bf9c27a422a\" style=\"width:100px;height:100px;border-radius:50%;object-fit:cover;\"><br>\n",
              "                <div style=\"font-size:12px;margin-top:6px;color:#999;\">Kanye West</div>\n",
              "            </div>\n",
              "            \n",
              "            <div style='text-align:center;width:120px;'>\n",
              "                <img src=\"https://i.scdn.co/image/ab6761610000e5ebba50ca67ffc3097f6ea1710a\" style=\"width:100px;height:100px;border-radius:50%;object-fit:cover;\"><br>\n",
              "                <div style=\"font-size:12px;margin-top:6px;color:#999;\">Playboi Carti</div>\n",
              "            </div>\n",
              "            \n",
              "            <div style='text-align:center;width:120px;'>\n",
              "                <img src=\"https://i.scdn.co/image/ab6761610000e5eb7565b356bc9d9394eefa2ccb\" style=\"width:100px;height:100px;border-radius:50%;object-fit:cover;\"><br>\n",
              "                <div style=\"font-size:12px;margin-top:6px;color:#999;\">Future</div>\n",
              "            </div>\n",
              "            \n",
              "            <div style='text-align:center;width:120px;'>\n",
              "                <img src=\"https://i.scdn.co/image/ab6761610000e5eba00b11c129b27a88fc72f36b\" style=\"width:100px;height:100px;border-radius:50%;object-fit:cover;\"><br>\n",
              "                <div style=\"font-size:12px;margin-top:6px;color:#999;\">Eminem</div>\n",
              "            </div>\n",
              "            \n",
              "            <div style='text-align:center;width:120px;'>\n",
              "                <img src=\"https://i.scdn.co/image/ab6761610000e5ebdfa2b0c7544a772042a12e52\" style=\"width:100px;height:100px;border-radius:50%;object-fit:cover;\"><br>\n",
              "                <div style=\"font-size:12px;margin-top:6px;color:#999;\">Tyler, The Creator</div>\n",
              "            </div>\n",
              "            \n",
              "            <div style='text-align:center;width:120px;'>\n",
              "                <img src=\"https://i.scdn.co/image/ab6761610000e5ebe17c0aa1714a03d62b5ce4e0\" style=\"width:100px;height:100px;border-radius:50%;object-fit:cover;\"><br>\n",
              "                <div style=\"font-size:12px;margin-top:6px;color:#999;\">Post Malone</div>\n",
              "            </div>\n",
              "            \n",
              "            <div style='text-align:center;width:120px;'>\n",
              "                <img src=\"https://i.scdn.co/image/ab6761610000e5ebc1c08e541eae3cc82c6988c4\" style=\"width:100px;height:100px;border-radius:50%;object-fit:cover;\"><br>\n",
              "                <div style=\"font-size:12px;margin-top:6px;color:#999;\">Lil Wayne</div>\n",
              "            </div>\n",
              "            </div>"
            ]
          },
          "metadata": {}
        }
      ]
    }
  ]
}